{
 "cells": [
  {
   "cell_type": "markdown",
   "id": "2999eedf-90c5-4cf9-86e0-0e35fd510b46",
   "metadata": {},
   "source": [
    "### Package"
   ]
  },
  {
   "cell_type": "code",
   "execution_count": 1,
   "id": "980ff08d",
   "metadata": {
    "_cell_guid": "b1076dfc-b9ad-4769-8c92-a6c4dae69d19",
    "_uuid": "8f2839f25d086af736a60e9eeb907d3b93b6e0e5",
    "execution": {
     "iopub.execute_input": "2021-10-04T10:26:23.660621Z",
     "iopub.status.busy": "2021-10-04T10:26:23.659092Z",
     "iopub.status.idle": "2021-10-04T10:26:29.214162Z",
     "shell.execute_reply": "2021-10-04T10:26:29.213120Z",
     "shell.execute_reply.started": "2021-10-04T09:17:59.667266Z"
    },
    "papermill": {
     "duration": 5.604394,
     "end_time": "2021-10-04T10:26:29.214331",
     "exception": false,
     "start_time": "2021-10-04T10:26:23.609937",
     "status": "completed"
    },
    "tags": []
   },
   "outputs": [],
   "source": [
    "# Load package\n",
    "import numpy as np\n",
    "import pandas as pd\n",
    "import sklearn\n",
    "import xgboost as xgb\n",
    "import seaborn as sns\n",
    "import matplotlib.pyplot as plt\n",
    "from sklearn.model_selection import KFold\n",
    "plt.style.use('seaborn')\n",
    "sns.set(font_scale=2) \n",
    "%matplotlib inline\n",
    "%config InlineBackend.figure_format = 'retina'\n",
    "\n",
    "\n",
    "import torch\n",
    "import torchvision\n",
    "import torch.nn as nn\n",
    "import torch.nn.functional as F\n",
    "import torch.optim as optim\n",
    "import torch.nn.init\n",
    "from torch.utils.data import Dataset, DataLoader,TensorDataset,random_split,SubsetRandomSampler, ConcatDataset\n",
    "from PIL import Image"
   ]
  },
  {
   "cell_type": "markdown",
   "id": "ca6004ac-d29c-45f5-8a62-dfa2f93a13cf",
   "metadata": {},
   "source": [
    "### Data Cleaning and EDA"
   ]
  },
  {
   "cell_type": "code",
   "execution_count": 3,
   "id": "d4a4a632",
   "metadata": {
    "execution": {
     "iopub.execute_input": "2021-10-04T10:28:14.206170Z",
     "iopub.status.busy": "2021-10-04T10:28:14.205164Z",
     "iopub.status.idle": "2021-10-04T10:28:14.560947Z",
     "shell.execute_reply": "2021-10-04T10:28:14.561469Z",
     "shell.execute_reply.started": "2021-10-04T09:19:48.100991Z"
    },
    "papermill": {
     "duration": 0.412456,
     "end_time": "2021-10-04T10:28:14.561631",
     "exception": false,
     "start_time": "2021-10-04T10:28:14.149175",
     "status": "completed"
    },
    "tags": []
   },
   "outputs": [
    {
     "name": "stdout",
     "output_type": "stream",
     "text": [
      "<class 'pandas.core.frame.DataFrame'>\n",
      "RangeIndex: 811457 entries, 0 to 811456\n",
      "Data columns (total 6 columns):\n",
      " #   Column          Non-Null Count   Dtype  \n",
      "---  ------          --------------   -----  \n",
      " 0   waferMap        811457 non-null  object \n",
      " 1   dieSize         811457 non-null  float64\n",
      " 2   lotName         811457 non-null  object \n",
      " 3   waferIndex      811457 non-null  float64\n",
      " 4   trianTestLabel  811457 non-null  object \n",
      " 5   failureType     811457 non-null  object \n",
      "dtypes: float64(2), object(4)\n",
      "memory usage: 37.1+ MB\n"
     ]
    }
   ],
   "source": [
    "# Data\n",
    "df = pd.read_pickle(\"../input/wm811k-wafer-map/LSWMD.pkl\")\n",
    "df.info()"
   ]
  },
  {
   "cell_type": "code",
   "execution_count": 4,
   "id": "cee8ee97",
   "metadata": {
    "execution": {
     "iopub.execute_input": "2021-10-04T10:28:14.664434Z",
     "iopub.status.busy": "2021-10-04T10:28:14.663565Z",
     "iopub.status.idle": "2021-10-04T10:28:14.913798Z",
     "shell.execute_reply": "2021-10-04T10:28:14.914286Z",
     "shell.execute_reply.started": "2021-10-04T09:19:48.444047Z"
    },
    "papermill": {
     "duration": 0.302403,
     "end_time": "2021-10-04T10:28:14.914447",
     "exception": false,
     "start_time": "2021-10-04T10:28:14.612044",
     "status": "completed"
    },
    "tags": []
   },
   "outputs": [
    {
     "data": {
      "text/html": [
       "<div>\n",
       "<style scoped>\n",
       "    .dataframe tbody tr th:only-of-type {\n",
       "        vertical-align: middle;\n",
       "    }\n",
       "\n",
       "    .dataframe tbody tr th {\n",
       "        vertical-align: top;\n",
       "    }\n",
       "\n",
       "    .dataframe thead th {\n",
       "        text-align: right;\n",
       "    }\n",
       "</style>\n",
       "<table border=\"1\" class=\"dataframe\">\n",
       "  <thead>\n",
       "    <tr style=\"text-align: right;\">\n",
       "      <th></th>\n",
       "      <th>waferMap</th>\n",
       "      <th>dieSize</th>\n",
       "      <th>lotName</th>\n",
       "      <th>waferIndex</th>\n",
       "      <th>trianTestLabel</th>\n",
       "      <th>failureType</th>\n",
       "    </tr>\n",
       "  </thead>\n",
       "  <tbody>\n",
       "    <tr>\n",
       "      <th>0</th>\n",
       "      <td>[[0, 0, 0, 0, 0, 0, 0, 0, 0, 0, 0, 0, 0, 0, 0,...</td>\n",
       "      <td>1683.0</td>\n",
       "      <td>lot1</td>\n",
       "      <td>1.0</td>\n",
       "      <td>[[Training]]</td>\n",
       "      <td>[[none]]</td>\n",
       "    </tr>\n",
       "    <tr>\n",
       "      <th>1</th>\n",
       "      <td>[[0, 0, 0, 0, 0, 0, 0, 0, 0, 0, 0, 0, 0, 0, 0,...</td>\n",
       "      <td>1683.0</td>\n",
       "      <td>lot1</td>\n",
       "      <td>2.0</td>\n",
       "      <td>[[Training]]</td>\n",
       "      <td>[[none]]</td>\n",
       "    </tr>\n",
       "    <tr>\n",
       "      <th>2</th>\n",
       "      <td>[[0, 0, 0, 0, 0, 0, 0, 0, 0, 0, 0, 0, 0, 0, 0,...</td>\n",
       "      <td>1683.0</td>\n",
       "      <td>lot1</td>\n",
       "      <td>3.0</td>\n",
       "      <td>[[Training]]</td>\n",
       "      <td>[[none]]</td>\n",
       "    </tr>\n",
       "    <tr>\n",
       "      <th>3</th>\n",
       "      <td>[[0, 0, 0, 0, 0, 0, 0, 0, 0, 0, 0, 0, 0, 0, 0,...</td>\n",
       "      <td>1683.0</td>\n",
       "      <td>lot1</td>\n",
       "      <td>4.0</td>\n",
       "      <td>[[Training]]</td>\n",
       "      <td>[[none]]</td>\n",
       "    </tr>\n",
       "    <tr>\n",
       "      <th>4</th>\n",
       "      <td>[[0, 0, 0, 0, 0, 0, 0, 0, 0, 0, 0, 0, 0, 0, 0,...</td>\n",
       "      <td>1683.0</td>\n",
       "      <td>lot1</td>\n",
       "      <td>5.0</td>\n",
       "      <td>[[Training]]</td>\n",
       "      <td>[[none]]</td>\n",
       "    </tr>\n",
       "  </tbody>\n",
       "</table>\n",
       "</div>"
      ],
      "text/plain": [
       "                                            waferMap  dieSize lotName  \\\n",
       "0  [[0, 0, 0, 0, 0, 0, 0, 0, 0, 0, 0, 0, 0, 0, 0,...   1683.0    lot1   \n",
       "1  [[0, 0, 0, 0, 0, 0, 0, 0, 0, 0, 0, 0, 0, 0, 0,...   1683.0    lot1   \n",
       "2  [[0, 0, 0, 0, 0, 0, 0, 0, 0, 0, 0, 0, 0, 0, 0,...   1683.0    lot1   \n",
       "3  [[0, 0, 0, 0, 0, 0, 0, 0, 0, 0, 0, 0, 0, 0, 0,...   1683.0    lot1   \n",
       "4  [[0, 0, 0, 0, 0, 0, 0, 0, 0, 0, 0, 0, 0, 0, 0,...   1683.0    lot1   \n",
       "\n",
       "   waferIndex trianTestLabel failureType  \n",
       "0         1.0   [[Training]]    [[none]]  \n",
       "1         2.0   [[Training]]    [[none]]  \n",
       "2         3.0   [[Training]]    [[none]]  \n",
       "3         4.0   [[Training]]    [[none]]  \n",
       "4         5.0   [[Training]]    [[none]]  "
      ]
     },
     "execution_count": 4,
     "metadata": {},
     "output_type": "execute_result"
    }
   ],
   "source": [
    "df.head()"
   ]
  },
  {
   "cell_type": "code",
   "execution_count": 6,
   "id": "658e5d3e",
   "metadata": {
    "execution": {
     "iopub.execute_input": "2021-10-04T10:28:15.339777Z",
     "iopub.status.busy": "2021-10-04T10:28:15.338789Z",
     "iopub.status.idle": "2021-10-04T10:28:15.707992Z",
     "shell.execute_reply": "2021-10-04T10:28:15.707092Z",
     "shell.execute_reply.started": "2021-10-04T09:19:48.814589Z"
    },
    "papermill": {
     "duration": 0.424977,
     "end_time": "2021-10-04T10:28:15.708135",
     "exception": false,
     "start_time": "2021-10-04T10:28:15.283158",
     "status": "completed"
    },
    "tags": []
   },
   "outputs": [
    {
     "data": {
      "image/png": "[encoded data removed]",
      "text/plain": [
       "<Figure size 432x288 with 1 Axes>"
      ]
     },
     "metadata": {
      "needs_background": "light"
     },
     "output_type": "display_data"
    }
   ],
   "source": [
    "# 1. The distribution of lot_idx and num_wafer\n",
    "lot_index = np.unique(df.waferIndex, return_counts=True)\n",
    "plt.bar(lot_index[0], lot_index[1], color='gold', align='center', alpha=0.5)\n",
    "plt.title(\"wafer Index dist\")\n",
    "plt.xlabel(\"index num\")\n",
    "plt.ylabel(\"frequency\")\n",
    "plt.ylim(30000, 34000)\n",
    "plt.show()"
   ]
  },
  {
   "cell_type": "code",
   "execution_count": 7,
   "id": "c746e986",
   "metadata": {
    "execution": {
     "iopub.execute_input": "2021-10-04T10:28:15.912350Z",
     "iopub.status.busy": "2021-10-04T10:28:15.911403Z",
     "iopub.status.idle": "2021-10-04T10:28:15.964266Z",
     "shell.execute_reply": "2021-10-04T10:28:15.963713Z",
     "shell.execute_reply.started": "2021-10-04T09:19:49.108395Z"
    },
    "papermill": {
     "duration": 0.107948,
     "end_time": "2021-10-04T10:28:15.964397",
     "exception": false,
     "start_time": "2021-10-04T10:28:15.856449",
     "status": "completed"
    },
    "tags": []
   },
   "outputs": [],
   "source": [
    "# Drop column\n",
    "df = df.drop(['waferIndex'], axis = 1)\n",
    "df.info()"
   ]
  },
  {
   "cell_type": "code",
   "execution_count": 9,
   "id": "7e97157b",
   "metadata": {
    "execution": {
     "iopub.execute_input": "2021-10-04T10:28:16.538281Z",
     "iopub.status.busy": "2021-10-04T10:28:16.537282Z",
     "iopub.status.idle": "2021-10-04T10:28:19.395727Z",
     "shell.execute_reply": "2021-10-04T10:28:19.396365Z",
     "shell.execute_reply.started": "2021-10-04T09:19:49.489751Z"
    },
    "papermill": {
     "duration": 2.914636,
     "end_time": "2021-10-04T10:28:19.396538",
     "exception": false,
     "start_time": "2021-10-04T10:28:16.481902",
     "status": "completed"
    },
    "tags": []
   },
   "outputs": [
    {
     "data": {
      "text/html": [
       "<div>\n",
       "<style scoped>\n",
       "    .dataframe tbody tr th:only-of-type {\n",
       "        vertical-align: middle;\n",
       "    }\n",
       "\n",
       "    .dataframe tbody tr th {\n",
       "        vertical-align: top;\n",
       "    }\n",
       "\n",
       "    .dataframe thead th {\n",
       "        text-align: right;\n",
       "    }\n",
       "</style>\n",
       "<table border=\"1\" class=\"dataframe\">\n",
       "  <thead>\n",
       "    <tr style=\"text-align: right;\">\n",
       "      <th></th>\n",
       "      <th>waferMap</th>\n",
       "      <th>dieSize</th>\n",
       "      <th>lotName</th>\n",
       "      <th>trianTestLabel</th>\n",
       "      <th>failureType</th>\n",
       "      <th>waferMapDim</th>\n",
       "    </tr>\n",
       "  </thead>\n",
       "  <tbody>\n",
       "    <tr>\n",
       "      <th>477926</th>\n",
       "      <td>[[0, 0, 0, 0, 0, 0, 0, 0, 0, 0, 0, 0, 0, 0, 0,...</td>\n",
       "      <td>1513.0</td>\n",
       "      <td>lot29544</td>\n",
       "      <td>[]</td>\n",
       "      <td>[]</td>\n",
       "      <td>(49, 39)</td>\n",
       "    </tr>\n",
       "    <tr>\n",
       "      <th>510</th>\n",
       "      <td>[[0, 0, 0, 0, 0, 0, 0, 0, 0, 0, 2, 1, 1, 1, 1,...</td>\n",
       "      <td>533.0</td>\n",
       "      <td>lot21</td>\n",
       "      <td>[[Training]]</td>\n",
       "      <td>[[none]]</td>\n",
       "      <td>(26, 26)</td>\n",
       "    </tr>\n",
       "    <tr>\n",
       "      <th>730736</th>\n",
       "      <td>[[0, 0, 0, 0, 0, 0, 0, 0, 0, 0, 0, 0, 1, 1, 2,...</td>\n",
       "      <td>741.0</td>\n",
       "      <td>lot44264</td>\n",
       "      <td>[[Test]]</td>\n",
       "      <td>[[none]]</td>\n",
       "      <td>(33, 29)</td>\n",
       "    </tr>\n",
       "    <tr>\n",
       "      <th>702037</th>\n",
       "      <td>[[0, 0, 0, 0, 0, 0, 0, 0, 0, 0, 0, 0, 2, 2, 2,...</td>\n",
       "      <td>516.0</td>\n",
       "      <td>lot43106</td>\n",
       "      <td>[[Training]]</td>\n",
       "      <td>[[none]]</td>\n",
       "      <td>(25, 27)</td>\n",
       "    </tr>\n",
       "    <tr>\n",
       "      <th>244393</th>\n",
       "      <td>[[0, 0, 0, 0, 0, 0, 0, 0, 0, 0, 0, 0, 0, 0, 0,...</td>\n",
       "      <td>22372.0</td>\n",
       "      <td>lot15319</td>\n",
       "      <td>[]</td>\n",
       "      <td>[]</td>\n",
       "      <td>(153, 187)</td>\n",
       "    </tr>\n",
       "  </tbody>\n",
       "</table>\n",
       "</div>"
      ],
      "text/plain": [
       "                                                 waferMap  dieSize   lotName  \\\n",
       "477926  [[0, 0, 0, 0, 0, 0, 0, 0, 0, 0, 0, 0, 0, 0, 0,...   1513.0  lot29544   \n",
       "510     [[0, 0, 0, 0, 0, 0, 0, 0, 0, 0, 2, 1, 1, 1, 1,...    533.0     lot21   \n",
       "730736  [[0, 0, 0, 0, 0, 0, 0, 0, 0, 0, 0, 0, 1, 1, 2,...    741.0  lot44264   \n",
       "702037  [[0, 0, 0, 0, 0, 0, 0, 0, 0, 0, 0, 0, 2, 2, 2,...    516.0  lot43106   \n",
       "244393  [[0, 0, 0, 0, 0, 0, 0, 0, 0, 0, 0, 0, 0, 0, 0,...  22372.0  lot15319   \n",
       "\n",
       "       trianTestLabel failureType waferMapDim  \n",
       "477926             []          []    (49, 39)  \n",
       "510      [[Training]]    [[none]]    (26, 26)  \n",
       "730736       [[Test]]    [[none]]    (33, 29)  \n",
       "702037   [[Training]]    [[none]]    (25, 27)  \n",
       "244393             []          []  (153, 187)  "
      ]
     },
     "execution_count": 9,
     "metadata": {},
     "output_type": "execute_result"
    }
   ],
   "source": [
    "# 2. Add wafermapDim column because waferMap dim is different each other.\n",
    "def find_dim(x):\n",
    "    dim0 = np.size(x, axis=0)\n",
    "    dim1 = np.size(x, axis=1)\n",
    "    return dim0, dim1\n",
    "df['waferMapDim']= df['waferMap'].apply(lambda x: find_dim(x))\n",
    "df.head(5)"
   ]
  },
  {
   "cell_type": "code",
   "execution_count": 10,
   "id": "4d697d42",
   "metadata": {
    "execution": {
     "iopub.execute_input": "2021-10-04T10:28:19.505128Z",
     "iopub.status.busy": "2021-10-04T10:28:19.504012Z",
     "iopub.status.idle": "2021-10-04T10:28:46.376974Z",
     "shell.execute_reply": "2021-10-04T10:28:46.376445Z",
     "shell.execute_reply.started": "2021-10-04T09:19:51.647559Z"
    },
    "papermill": {
     "duration": 26.930388,
     "end_time": "2021-10-04T10:28:46.377138",
     "exception": false,
     "start_time": "2021-10-04T10:28:19.446750",
     "status": "completed"
    },
    "tags": []
   },
   "outputs": [
    {
     "name": "stderr",
     "output_type": "stream",
     "text": [
      "/opt/conda/lib/python3.7/site-packages/pandas/core/array_algos/replace.py:60: FutureWarning: elementwise comparison failed; returning scalar instead, but in the future will perform elementwise comparison\n",
      "  op = lambda x: operator.eq(x, b)\n"
     ]
    }
   ],
   "source": [
    "# 3. To check failureType distribution and encoding label\n",
    "df['failureNum'] = df['failureType']\n",
    "mapping_type={'Center':0,'Donut':1,'Edge-Loc':2,'Edge-Ring':3,'Loc':4,'Random':5,'Scratch':6,'Near-full':7,'none':8}\n",
    "df = df.replace({'failureNum':mapping_type})"
   ]
  },
  {
   "cell_type": "code",
   "execution_count": 11,
   "id": "942d7164",
   "metadata": {
    "execution": {
     "iopub.execute_input": "2021-10-04T10:28:46.473490Z",
     "iopub.status.busy": "2021-10-04T10:28:46.472922Z",
     "iopub.status.idle": "2021-10-04T10:28:51.404885Z",
     "shell.execute_reply": "2021-10-04T10:28:51.404310Z",
     "shell.execute_reply.started": "2021-10-04T09:20:17.640301Z"
    },
    "papermill": {
     "duration": 4.983326,
     "end_time": "2021-10-04T10:28:51.405058",
     "exception": false,
     "start_time": "2021-10-04T10:28:46.421732",
     "status": "completed"
    },
    "tags": []
   },
   "outputs": [
    {
     "name": "stderr",
     "output_type": "stream",
     "text": [
      "/opt/conda/lib/python3.7/site-packages/pandas/core/ops/array_ops.py:55: FutureWarning: elementwise comparison failed; returning scalar instead, but in the future will perform elementwise comparison\n",
      "  result = libops.scalar_compare(x.ravel(), y, op)\n"
     ]
    },
    {
     "data": {
      "text/plain": [
       "(172950, 25519, 147431)"
      ]
     },
     "execution_count": 11,
     "metadata": {},
     "output_type": "execute_result"
    }
   ],
   "source": [
    "# df_withlabel : labeled wafer\n",
    "# df_withpattern : labeled & patterned wafer \n",
    "# df_nonpatter : labeled but non-patterned wafer\n",
    "df_withlabel = df[(df['failureType']!=0)]\n",
    "df_withlabel =df_withlabel.reset_index() #labeled index.\n",
    "df_withpattern = df_withlabel[(df_withlabel['failureType'] != 'none')]\n",
    "df_withpattern = df_withpattern.reset_index() #patterned index.\n",
    "df_nonpattern = df_withlabel[(df_withlabel['failureType'] == 'none')] #nonpatterned index\n",
    "df_withlabel.shape[0], df_withpattern.shape[0], df_nonpattern.shape[0]"
   ]
  },
  {
   "cell_type": "code",
   "execution_count": 12,
   "id": "72d667fb",
   "metadata": {
    "execution": {
     "iopub.execute_input": "2021-10-04T10:28:51.542575Z",
     "iopub.status.busy": "2021-10-04T10:28:51.541673Z",
     "iopub.status.idle": "2021-10-04T10:28:51.937493Z",
     "shell.execute_reply": "2021-10-04T10:28:51.937901Z",
     "shell.execute_reply.started": "2021-10-04T09:20:22.570604Z"
    },
    "papermill": {
     "duration": 0.48651,
     "end_time": "2021-10-04T10:28:51.938060",
     "exception": false,
     "start_time": "2021-10-04T10:28:51.451550",
     "status": "completed"
    },
    "tags": []
   },
   "outputs": [
    {
     "name": "stderr",
     "output_type": "stream",
     "text": [
      "/opt/conda/lib/python3.7/site-packages/seaborn/_decorators.py:43: FutureWarning: Pass the following variable as a keyword arg: x. From version 0.12, the only valid positional argument will be `data`, and passing other arguments without an explicit keyword will result in an error or misinterpretation.\n",
      "  FutureWarning\n"
     ]
    },
    {
     "data": {
      "image/png": "[encoded data removed]",
      "text/plain": [
       "<Figure size 1080x360 with 2 Axes>"
      ]
     },
     "metadata": {
      "needs_background": "light"
     },
     "output_type": "display_data"
    }
   ],
   "source": [
    "fig,ax = plt.subplots(1,2, figsize = (15,5))\n",
    "colors = ['blue', 'green', 'red']\n",
    "num_wafers=[len(df['waferMap'])-df_withlabel.shape[0], df_withpattern.shape[0], df_nonpattern.shape[0]]\n",
    "labels = ['no label', 'label & pattern', 'label & non-pattern']\n",
    "ax[0].pie(num_wafers, explode=(0.1,0,0), labels = labels, colors = colors, autopct = '%1.1f%%', shadow=True)\n",
    "sns.countplot('failureNum', data=df_withpattern, ax=ax[1])\n",
    "ax[1].set_title(\"failure type frequency\")\n",
    "ax[1].set_ylabel(\"number of patterned wafers\")\n",
    "plt.subplots_adjust(wspace = 1.5)\n",
    "plt.show()"
   ]
  },
  {
   "cell_type": "code",
   "execution_count": 13,
   "id": "669d0dd9",
   "metadata": {
    "execution": {
     "iopub.execute_input": "2021-10-04T10:28:52.076670Z",
     "iopub.status.busy": "2021-10-04T10:28:52.059223Z",
     "iopub.status.idle": "2021-10-04T10:28:52.085960Z",
     "shell.execute_reply": "2021-10-04T10:28:52.085512Z",
     "shell.execute_reply.started": "2021-10-04T09:20:23.009978Z"
    },
    "papermill": {
     "duration": 0.10099,
     "end_time": "2021-10-04T10:28:52.086100",
     "exception": false,
     "start_time": "2021-10-04T10:28:51.985110",
     "status": "completed"
    },
    "tags": []
   },
   "outputs": [
    {
     "data": {
      "text/plain": [
       "(25, 27)      18781\n",
       "(26, 26)      14366\n",
       "(30, 34)      12400\n",
       "(29, 26)      11751\n",
       "(27, 25)      10682\n",
       "              ...  \n",
       "(41, 39)          1\n",
       "(122, 104)        1\n",
       "(54, 54)          1\n",
       "(109, 111)        1\n",
       "(43, 133)         1\n",
       "Name: waferMapDim, Length: 346, dtype: int64"
      ]
     },
     "execution_count": 13,
     "metadata": {},
     "output_type": "execute_result"
    }
   ],
   "source": [
    "df_withlabel['waferMapDim'].value_counts()"
   ]
  },
  {
   "cell_type": "markdown",
   "id": "6f603480-b4ec-4d81-b919-157a314240cf",
   "metadata": {},
   "source": [
    "### Choose a subset of data\n",
    "We choose the data with labels among two most popular group dim (25,27) & (26,26)"
   ]
  },
  {
   "cell_type": "code",
   "execution_count": 17,
   "id": "bb7f4c87",
   "metadata": {
    "execution": {
     "iopub.execute_input": "2021-10-04T10:29:16.210518Z",
     "iopub.status.busy": "2021-10-04T10:29:16.209907Z",
     "iopub.status.idle": "2021-10-04T10:29:16.212548Z",
     "shell.execute_reply": "2021-10-04T10:29:16.212935Z",
     "shell.execute_reply.started": "2021-10-04T09:20:45.023235Z"
    },
    "papermill": {
     "duration": 0.055551,
     "end_time": "2021-10-04T10:29:16.213076",
     "exception": false,
     "start_time": "2021-10-04T10:29:16.157525",
     "status": "completed"
    },
    "tags": []
   },
   "outputs": [
    {
     "data": {
      "text/plain": [
       "(torch.Size([18781, 25, 27]), torch.Size([14366, 26, 26]))"
      ]
     },
     "execution_count": 17,
     "metadata": {},
     "output_type": "execute_result"
    }
   ],
   "source": [
    "# Extract (25,27) & (26,26) waferMapDim data\n",
    "def subwafer(sw,label):\n",
    "    Dim0 = np.size(sw, axis=1)\n",
    "    Dim1 = np.size(sw, axis=2)\n",
    "    sub_df = df_withlabel.loc[df_withlabel['waferMapDim'] == (Dim0, Dim1)]\n",
    "    sub_wafer = sub_df['waferMap'].values\n",
    "    sw = sw.to(torch.device('cuda'))\n",
    "    for i in range(len(sub_df)):\n",
    "        waferMap = torch.from_numpy(sub_df.iloc[i,:]['waferMap'].reshape(1, Dim0, Dim1))\n",
    "        waferMap = waferMap.to(torch.device('cuda'))\n",
    "        sw = torch.cat([sw, waferMap])\n",
    "        label.append(sub_df.iloc[i,:]['failureType'][0][0])\n",
    "    x = sw[1:]\n",
    "    y = np.array(label).reshape((-1,1))\n",
    "    del waferMap, sw\n",
    "    return x, y\n",
    "\n",
    "sw0 = torch.ones((1, 25, 27))\n",
    "sw1 = torch.ones((1, 26, 26))\n",
    "label0 = list()\n",
    "label1 = list()\n",
    "x0, y0 = subwafer(sw0, label0)\n",
    "x1, y1 = subwafer(sw1, label1)\n",
    "x0.shape, x1.shape"
   ]
  },
  {
   "cell_type": "markdown",
   "id": "177b3289-2ecf-4402-8768-d1af633e50c3",
   "metadata": {},
   "source": [
    "### One-Hot encoding for image"
   ]
  },
  {
   "cell_type": "code",
   "execution_count": 18,
   "id": "9399bb55",
   "metadata": {
    "execution": {
     "iopub.execute_input": "2021-10-04T10:29:16.314780Z",
     "iopub.status.busy": "2021-10-04T10:29:16.313996Z",
     "iopub.status.idle": "2021-10-04T10:29:16.316067Z",
     "shell.execute_reply": "2021-10-04T10:29:16.316553Z",
     "shell.execute_reply.started": "2021-10-04T09:20:45.032675Z"
    },
    "papermill": {
     "duration": 0.056597,
     "end_time": "2021-10-04T10:29:16.316675",
     "exception": false,
     "start_time": "2021-10-04T10:29:16.260078",
     "status": "completed"
    },
    "tags": []
   },
   "outputs": [],
   "source": [
    "# Add RGB space for one-hot encoding\n",
    "# 0: non wafer -> R, 1: normal die -> G, 2: defect die -> B\n",
    "\n",
    "def rgb_sw(x):\n",
    "    Dim0 = np.size(x, axis=1)\n",
    "    Dim1 = np.size(x, axis=2)\n",
    "    new_x = np.zeros((len(x), Dim0, Dim1, 3))\n",
    "    x = torch.unsqueeze(x,-1)\n",
    "    x = x.to(torch.device('cpu'))\n",
    "    x = x.numpy()\n",
    "    for w in range(len(x)): \n",
    "        for i in range(Dim0):\n",
    "            for j in range(Dim1):\n",
    "                new_x[w, i, j, int(x[w, i, j])] = 1\n",
    "    return new_x\n",
    "\n",
    "rgb_x0 = rgb_sw(x0)\n",
    "rgb_x1 = rgb_sw(x1)"
   ]
  },
  {
   "cell_type": "markdown",
   "id": "7d90da92-0f61-4725-89b6-d3d07d6c0fa9",
   "metadata": {},
   "source": [
    "### Reshape data"
   ]
  },
  {
   "cell_type": "code",
   "execution_count": 21,
   "id": "595637bd",
   "metadata": {
    "execution": {
     "iopub.execute_input": "2021-10-04T10:29:38.913372Z",
     "iopub.status.busy": "2021-10-04T10:29:38.912509Z",
     "iopub.status.idle": "2021-10-04T10:29:38.914385Z",
     "shell.execute_reply": "2021-10-04T10:29:38.914848Z",
     "shell.execute_reply.started": "2021-10-04T09:21:07.226208Z"
    },
    "papermill": {
     "duration": 0.057862,
     "end_time": "2021-10-04T10:29:38.915003",
     "exception": false,
     "start_time": "2021-10-04T10:29:38.857141",
     "status": "completed"
    },
    "tags": []
   },
   "outputs": [],
   "source": [
    "#To use two dim, we have to resize these data.\n",
    "def resize(x):\n",
    "    rwm = torch.ones((1,56,56,3))\n",
    "    for i in range(len(x)):\n",
    "        rwm = rwm.to(torch.device('cuda'))\n",
    "        a = Image.fromarray(x[i].astype('uint8')).resize((56,56))\n",
    "        a = np.array(a).reshape((1,56,56,3))\n",
    "        a = torch.from_numpy(a)\n",
    "        a = a.to(torch.device('cuda'))\n",
    "        rwm = torch.cat([rwm, a])\n",
    "    x = rwm[1:]\n",
    "    del rwm\n",
    "    return x\n",
    "\n",
    "resized_x0 = resize(rgb_x0)\n",
    "resized_x1 = resize(rgb_x1)"
   ]
  },
  {
   "cell_type": "code",
   "execution_count": 23,
   "id": "45d73ec0",
   "metadata": {
    "execution": {
     "iopub.execute_input": "2021-10-04T10:30:26.048976Z",
     "iopub.status.busy": "2021-10-04T10:30:26.041741Z",
     "iopub.status.idle": "2021-10-04T10:30:26.418853Z",
     "shell.execute_reply": "2021-10-04T10:30:26.418444Z",
     "shell.execute_reply.started": "2021-10-04T09:21:53.667777Z"
    },
    "papermill": {
     "duration": 0.441129,
     "end_time": "2021-10-04T10:30:26.418986",
     "exception": false,
     "start_time": "2021-10-04T10:30:25.977857",
     "status": "completed"
    },
    "tags": []
   },
   "outputs": [
    {
     "data": {
      "image/png": "[encoded data removed]",
      "text/plain": [
       "<Figure size 432x288 with 1 Axes>"
      ]
     },
     "metadata": {
      "needs_background": "light"
     },
     "output_type": "display_data"
    },
    {
     "data": {
      "image/png": "[encoded data removed]",
      "text/plain": [
       "<Figure size 432x288 with 1 Axes>"
      ]
     },
     "metadata": {
      "needs_background": "light"
     },
     "output_type": "display_data"
    }
   ],
   "source": [
    "plt.imshow(rgb_x0[1000])\n",
    "plt.show()\n",
    "plt.imshow(torch.argmax(resized_x0[1000],axis=2).cpu().numpy())\n",
    "plt.show()"
   ]
  },
  {
   "cell_type": "code",
   "execution_count": 24,
   "id": "d41a6944",
   "metadata": {
    "execution": {
     "iopub.execute_input": "2021-10-04T10:30:26.541284Z",
     "iopub.status.busy": "2021-10-04T10:30:26.540696Z",
     "iopub.status.idle": "2021-10-04T10:30:26.543559Z",
     "shell.execute_reply": "2021-10-04T10:30:26.543070Z",
     "shell.execute_reply.started": "2021-10-04T09:21:54.044312Z"
    },
    "papermill": {
     "duration": 0.074331,
     "end_time": "2021-10-04T10:30:26.543680",
     "exception": false,
     "start_time": "2021-10-04T10:30:26.469349",
     "status": "completed"
    },
    "tags": []
   },
   "outputs": [],
   "source": [
    "# Concatenate all data together\n",
    "resized_wm = torch.cat([resized_x0, resized_x1])\n",
    "label_wm = np.concatenate((y0, y1))"
   ]
  },
  {
   "cell_type": "markdown",
   "id": "381fa593-e89b-4107-9583-d386e2a11114",
   "metadata": {},
   "source": [
    "### Convolutional Autoencoder"
   ]
  },
  {
   "cell_type": "code",
   "execution_count": 25,
   "id": "830a1c96",
   "metadata": {
    "execution": {
     "iopub.execute_input": "2021-10-04T10:30:26.647512Z",
     "iopub.status.busy": "2021-10-04T10:30:26.646732Z",
     "iopub.status.idle": "2021-10-04T10:30:26.650087Z",
     "shell.execute_reply": "2021-10-04T10:30:26.649655Z",
     "shell.execute_reply.started": "2021-10-04T09:21:54.069536Z"
    },
    "papermill": {
     "duration": 0.057512,
     "end_time": "2021-10-04T10:30:26.650196",
     "exception": false,
     "start_time": "2021-10-04T10:30:26.592684",
     "status": "completed"
    },
    "tags": []
   },
   "outputs": [],
   "source": [
    "# parameters\n",
    "args = {'BATCH_SIZE': 16,\n",
    "        'LEARNING_RATE': 0.001,\n",
    "        'NUM_EPOCH': 10\n",
    "        }"
   ]
  },
  {
   "cell_type": "code",
   "execution_count": 26,
   "id": "3bd635bd",
   "metadata": {
    "execution": {
     "iopub.execute_input": "2021-10-04T10:30:26.752482Z",
     "iopub.status.busy": "2021-10-04T10:30:26.751743Z",
     "iopub.status.idle": "2021-10-04T10:30:26.754174Z",
     "shell.execute_reply": "2021-10-04T10:30:26.753743Z",
     "shell.execute_reply.started": "2021-10-04T09:21:54.081839Z"
    },
    "papermill": {
     "duration": 0.054977,
     "end_time": "2021-10-04T10:30:26.754285",
     "exception": false,
     "start_time": "2021-10-04T10:30:26.699308",
     "status": "completed"
    },
    "tags": []
   },
   "outputs": [],
   "source": [
    "# dataloader for autoencoder\n",
    "resized_wm = resized_wm.permute(0,3,1,2)\n",
    "USE_CUDA = torch.cuda.is_available()\n",
    "DEVICE = torch.device(\"cuda\" if USE_CUDA else \"cpu\")\n",
    "train_loader  = torch.utils.data.DataLoader(resized_wm, args['BATCH_SIZE'], shuffle=True)\n",
    "resized_wm.shape, label_wm.shape"
   ]
  },
  {
   "cell_type": "code",
   "execution_count": 27,
   "id": "d21f6890",
   "metadata": {
    "execution": {
     "iopub.execute_input": "2021-10-04T10:30:26.858216Z",
     "iopub.status.busy": "2021-10-04T10:30:26.857262Z",
     "iopub.status.idle": "2021-10-04T10:30:26.859535Z",
     "shell.execute_reply": "2021-10-04T10:30:26.859935Z",
     "shell.execute_reply.started": "2021-10-04T09:53:05.960202Z"
    },
    "papermill": {
     "duration": 0.055533,
     "end_time": "2021-10-04T10:30:26.860091",
     "exception": false,
     "start_time": "2021-10-04T10:30:26.804558",
     "status": "completed"
    },
    "tags": []
   },
   "outputs": [],
   "source": [
    "# delete data\n",
    "del y0,y1,resized_x0, resized_x1\n",
    "del rgb_x0, rgb_x1\n",
    "del x0, x1"
   ]
  },
  {
   "cell_type": "code",
   "execution_count": 28,
   "id": "6a07617f",
   "metadata": {
    "execution": {
     "iopub.execute_input": "2021-10-04T10:30:26.966623Z",
     "iopub.status.busy": "2021-10-04T10:30:26.965442Z",
     "iopub.status.idle": "2021-10-04T10:30:26.967655Z",
     "shell.execute_reply": "2021-10-04T10:30:26.968122Z",
     "shell.execute_reply.started": "2021-10-04T09:21:54.102550Z"
    },
    "papermill": {
     "duration": 0.058928,
     "end_time": "2021-10-04T10:30:26.968258",
     "exception": false,
     "start_time": "2021-10-04T10:30:26.909330",
     "status": "completed"
    },
    "tags": []
   },
   "outputs": [],
   "source": [
    "# AutoEncoder Model\n",
    "\n",
    "class ConvAutoEncoder(nn.Module):\n",
    "    def __init__(self):\n",
    "        super(ConvAutoEncoder, self).__init__()\n",
    "        \n",
    "        # Encoder\n",
    "        self.cnn_layer1 = nn.Sequential(nn.Conv2d(3, 16, kernel_size=3, stride=1, padding=1),\n",
    "                                        nn.ReLU(),\n",
    "                                        nn.MaxPool2d(2,2))\n",
    "\n",
    "        self.cnn_layer2 = nn.Sequential(nn.Conv2d(16, 32, kernel_size=3, stride=1, padding=1),\n",
    "                                        nn.ReLU(),\n",
    "                                        nn.MaxPool2d(2,2))\n",
    "\n",
    "        # Decoder\n",
    "        self.tran_cnn_layer1 = nn.Sequential(nn.ConvTranspose2d(32, 16, kernel_size = 2, stride = 2, padding=0),\n",
    "                                             nn.ReLU())\n",
    "\n",
    "        self.tran_cnn_layer2 = nn.Sequential(nn.ConvTranspose2d(16, 3, kernel_size = 2, stride = 2, padding=0),\n",
    "                                             nn.Sigmoid())\n",
    "            \n",
    "    def encoder(self, x):\n",
    "        encode = self.cnn_layer1(x)\n",
    "        encode = self.cnn_layer2(encode)   \n",
    "        return encode\n",
    "    \n",
    "    def decoder(self, x):\n",
    "        decode = self.tran_cnn_layer1(x)\n",
    "        decode = self.tran_cnn_layer2(decode)\n",
    "        return decode\n",
    "\n",
    "    def forward(self, x):\n",
    "        output = self.encoder(x)\n",
    "        output = self.decoder(output)\n",
    "        return output"
   ]
  },
  {
   "cell_type": "code",
   "execution_count": 33,
   "id": "6d63000d",
   "metadata": {
    "execution": {
     "iopub.execute_input": "2021-10-04T10:30:27.519377Z",
     "iopub.status.busy": "2021-10-04T10:30:27.518715Z",
     "iopub.status.idle": "2021-10-04T10:30:27.531313Z",
     "shell.execute_reply": "2021-10-04T10:30:27.532016Z",
     "shell.execute_reply.started": "2021-10-04T09:21:54.149101Z"
    },
    "papermill": {
     "duration": 0.074664,
     "end_time": "2021-10-04T10:30:27.532256",
     "exception": false,
     "start_time": "2021-10-04T10:30:27.457592",
     "status": "completed"
    },
    "tags": []
   },
   "outputs": [
    {
     "name": "stdout",
     "output_type": "stream",
     "text": [
      "ConvAutoEncoder(\n",
      "  (cnn_layer1): Sequential(\n",
      "    (0): Conv2d(3, 16, kernel_size=(3, 3), stride=(1, 1), padding=(1, 1))\n",
      "    (1): ReLU()\n",
      "    (2): MaxPool2d(kernel_size=2, stride=2, padding=0, dilation=1, ceil_mode=False)\n",
      "  )\n",
      "  (cnn_layer2): Sequential(\n",
      "    (0): Conv2d(16, 32, kernel_size=(3, 3), stride=(1, 1), padding=(1, 1))\n",
      "    (1): ReLU()\n",
      "    (2): MaxPool2d(kernel_size=2, stride=2, padding=0, dilation=1, ceil_mode=False)\n",
      "  )\n",
      "  (tran_cnn_layer1): Sequential(\n",
      "    (0): ConvTranspose2d(32, 16, kernel_size=(2, 2), stride=(2, 2))\n",
      "    (1): ReLU()\n",
      "  )\n",
      "  (tran_cnn_layer2): Sequential(\n",
      "    (0): ConvTranspose2d(16, 3, kernel_size=(2, 2), stride=(2, 2))\n",
      "    (1): Sigmoid()\n",
      "  )\n",
      ")\n"
     ]
    }
   ],
   "source": [
    "# Setup Model, loss_func, optimizer\n",
    "model = ConvAutoEncoder().to(DEVICE)\n",
    "print(model)\n",
    "criterion = nn.MSELoss()\n",
    "optimizer = torch.optim.Adam(model.parameters(), lr=args['LEARNING_RATE'])"
   ]
  },
  {
   "cell_type": "code",
   "execution_count": 34,
   "id": "b56d0d21",
   "metadata": {
    "execution": {
     "iopub.execute_input": "2021-10-04T10:30:27.691498Z",
     "iopub.status.busy": "2021-10-04T10:30:27.640732Z",
     "iopub.status.idle": "2021-10-04T10:30:35.774552Z",
     "shell.execute_reply": "2021-10-04T10:30:35.774009Z",
     "shell.execute_reply.started": "2021-10-04T09:21:54.170674Z"
    },
    "papermill": {
     "duration": 8.189372,
     "end_time": "2021-10-04T10:30:35.774691",
     "exception": false,
     "start_time": "2021-10-04T10:30:27.585319",
     "status": "completed"
    },
    "tags": []
   },
   "outputs": [
    {
     "name": "stdout",
     "output_type": "stream",
     "text": [
      "Processing /kaggle/input/torchsummary/torchsummary-1.5.1-py3-none-any.whl\n",
      "Installing collected packages: torchsummary\n",
      "Successfully installed torchsummary-1.5.1\n",
      "\u001b[33mWARNING: Running pip as the 'root' user can result in broken permissions and conflicting behaviour with the system package manager. It is recommended to use a virtual environment instead: https://pip.pypa.io/warnings/venv\u001b[0m\n"
     ]
    }
   ],
   "source": [
    "!pip install ../input/torchsummary/torchsummary-1.5.1-py3-none-any.whl"
   ]
  },
  {
   "cell_type": "code",
   "execution_count": 35,
   "id": "48c91d81",
   "metadata": {
    "execution": {
     "iopub.execute_input": "2021-10-04T10:30:35.881747Z",
     "iopub.status.busy": "2021-10-04T10:30:35.880887Z",
     "iopub.status.idle": "2021-10-04T10:30:35.983133Z",
     "shell.execute_reply": "2021-10-04T10:30:35.982707Z",
     "shell.execute_reply.started": "2021-10-04T09:22:01.940908Z"
    },
    "papermill": {
     "duration": 0.15853,
     "end_time": "2021-10-04T10:30:35.983259",
     "exception": false,
     "start_time": "2021-10-04T10:30:35.824729",
     "status": "completed"
    },
    "tags": []
   },
   "outputs": [
    {
     "name": "stdout",
     "output_type": "stream",
     "text": [
      "----------------------------------------------------------------\n",
      "        Layer (type)               Output Shape         Param #\n",
      "================================================================\n",
      "            Conv2d-1           [16, 16, 54, 54]             448\n",
      "              ReLU-2           [16, 16, 54, 54]               0\n",
      "         MaxPool2d-3           [16, 16, 27, 27]               0\n",
      "            Conv2d-4           [16, 32, 27, 27]           4,640\n",
      "              ReLU-5           [16, 32, 27, 27]               0\n",
      "         MaxPool2d-6           [16, 32, 13, 13]               0\n",
      "   ConvTranspose2d-7           [16, 16, 26, 26]           2,064\n",
      "              ReLU-8           [16, 16, 26, 26]               0\n",
      "   ConvTranspose2d-9            [16, 3, 52, 52]             195\n",
      "          Sigmoid-10            [16, 3, 52, 52]               0\n",
      "================================================================\n",
      "Total params: 7,347\n",
      "Trainable params: 7,347\n",
      "Non-trainable params: 0\n",
      "----------------------------------------------------------------\n",
      "Input size (MB): 0.53\n",
      "Forward/backward pass size (MB): 23.79\n",
      "Params size (MB): 0.03\n",
      "Estimated Total Size (MB): 24.35\n",
      "----------------------------------------------------------------\n"
     ]
    }
   ],
   "source": [
    "from torchsummary import summary\n",
    "summary(model,(3,54,54), batch_size=16)"
   ]
  },
  {
   "cell_type": "code",
   "execution_count": 36,
   "id": "89faf3ca",
   "metadata": {
    "execution": {
     "iopub.execute_input": "2021-10-04T10:30:36.094105Z",
     "iopub.status.busy": "2021-10-04T10:30:36.093201Z",
     "iopub.status.idle": "2021-10-04T10:31:51.638085Z",
     "shell.execute_reply": "2021-10-04T10:31:51.638670Z",
     "shell.execute_reply.started": "2021-10-04T09:22:02.054711Z"
    },
    "papermill": {
     "duration": 75.605548,
     "end_time": "2021-10-04T10:31:51.638885",
     "exception": false,
     "start_time": "2021-10-04T10:30:36.033337",
     "status": "completed"
    },
    "tags": []
   },
   "outputs": [
    {
     "name": "stdout",
     "output_type": "stream",
     "text": [
      "torch.Size([33147, 3, 56, 56])\n",
      "Epoch: 1/10 => loss : 0.551\n",
      "Epoch: 2/10 => loss : 0.134\n",
      "Epoch: 3/10 => loss : 0.092\n",
      "Epoch: 4/10 => loss : 0.077\n",
      "Epoch: 5/10 => loss : 0.068\n",
      "Epoch: 6/10 => loss : 0.062\n",
      "Epoch: 7/10 => loss : 0.058\n",
      "Epoch: 8/10 => loss : 0.055\n",
      "Epoch: 9/10 => loss : 0.052\n",
      "Epoch: 10/10 => loss : 0.050\n"
     ]
    }
   ],
   "source": [
    "steps = 0\n",
    "print(resized_wm.shape)\n",
    "total_steps = len(train_loader)\n",
    "losses =[]\n",
    "iterations = []\n",
    "for epoch in range(args['NUM_EPOCH']):    \n",
    "    running_loss = 0.0\n",
    "    for i,wafer in enumerate(train_loader):\n",
    "        steps += 1\n",
    "        wafer = wafer.to(DEVICE)\n",
    "        optimizer.zero_grad()\n",
    "        outputs = model(wafer)\n",
    "        loss = criterion(outputs, wafer) #autoencoder loss : compare input & output\n",
    "        loss.backward()\n",
    "        running_loss += loss.item()*wafer.shape[0]\n",
    "        optimizer.step()\n",
    "        if steps % total_steps == 0:\n",
    "            model.eval()\n",
    "            print('Epoch: {}/{}'.format(epoch+1, args['NUM_EPOCH']),\n",
    "                 \"=> loss : %.3f\"%(running_loss/total_steps))\n",
    "            steps = 0\n",
    "            iterations.append(i)\n",
    "            losses.append(running_loss / total_steps)\n",
    "            model.train()"
   ]
  },
  {
   "cell_type": "code",
   "execution_count": 37,
   "id": "d4c42027",
   "metadata": {
    "execution": {
     "iopub.execute_input": "2021-10-04T10:31:51.752423Z",
     "iopub.status.busy": "2021-10-04T10:31:51.751534Z",
     "iopub.status.idle": "2021-10-04T10:31:51.753630Z",
     "shell.execute_reply": "2021-10-04T10:31:51.754085Z",
     "shell.execute_reply.started": "2021-10-04T09:23:16.265416Z"
    },
    "papermill": {
     "duration": 0.061257,
     "end_time": "2021-10-04T10:31:51.754228",
     "exception": false,
     "start_time": "2021-10-04T10:31:51.692971",
     "status": "completed"
    },
    "tags": []
   },
   "outputs": [],
   "source": [
    "del wafer, optimizer, loss"
   ]
  },
  {
   "cell_type": "markdown",
   "id": "823b0b81-0c62-47c3-8029-a03a091fa3e4",
   "metadata": {},
   "source": [
    "### Data Augmentation"
   ]
  },
  {
   "cell_type": "code",
   "execution_count": 38,
   "id": "f50b2c08",
   "metadata": {
    "execution": {
     "iopub.execute_input": "2021-10-04T10:31:51.872572Z",
     "iopub.status.busy": "2021-10-04T10:31:51.871802Z",
     "iopub.status.idle": "2021-10-04T10:31:51.881087Z",
     "shell.execute_reply": "2021-10-04T10:31:51.880644Z",
     "shell.execute_reply.started": "2021-10-04T09:23:16.273256Z"
    },
    "papermill": {
     "duration": 0.070644,
     "end_time": "2021-10-04T10:31:51.881203",
     "exception": false,
     "start_time": "2021-10-04T10:31:51.810559",
     "status": "completed"
    },
    "tags": []
   },
   "outputs": [
    {
     "name": "stdout",
     "output_type": "stream",
     "text": [
      "['Center' 'Donut' 'Edge-Loc' 'Edge-Ring' 'Loc' 'Near-full' 'Random'\n",
      " 'Scratch' 'none']\n"
     ]
    }
   ],
   "source": [
    "faulty_case = np.unique(label_wm)\n",
    "print(faulty_case)"
   ]
  },
  {
   "cell_type": "code",
   "execution_count": 41,
   "id": "0470a1bf",
   "metadata": {
    "execution": {
     "iopub.execute_input": "2021-10-04T10:32:50.575993Z",
     "iopub.status.busy": "2021-10-04T10:32:50.575243Z",
     "iopub.status.idle": "2021-10-04T10:32:50.578517Z",
     "shell.execute_reply": "2021-10-04T10:32:50.579121Z",
     "shell.execute_reply.started": "2021-10-04T09:24:12.191929Z"
    },
    "papermill": {
     "duration": 0.067381,
     "end_time": "2021-10-04T10:32:50.579321",
     "exception": false,
     "start_time": "2021-10-04T10:32:50.511940",
     "status": "completed"
    },
    "tags": []
   },
   "outputs": [
    {
     "name": "stdout",
     "output_type": "stream",
     "text": [
      "After Generate resized_wm shape : torch.Size([50611, 3, 56, 56]), label_wm shape : (50611, 1)\n"
     ]
    }
   ],
   "source": [
    "import torch.nn.init\n",
    "\n",
    "# Augment function\n",
    "def gen_data(wafer, label):\n",
    "    gen_x = torch.zeros((1, 3, 56, 56))\n",
    "    with torch.no_grad():\n",
    "        encoded_x = model.encoder(wafer).to(torch.device('cpu'))\n",
    "    for i in range((2000//len(wafer)) + 1):\n",
    "        noised_encoded_x = (encoded_x + torch.from_numpy(np.random.normal(loc=0, scale=0.1, size = (len(encoded_x), 32, 14, 14))).to(torch.device('cpu'))).to(DEVICE)\n",
    "        noised_decoded_x = model.decoder(noised_encoded_x.float()).to(torch.device('cpu'))\n",
    "        gen_x = torch.cat([gen_x, noised_decoded_x], axis=0)\n",
    "        gen_y = np.full((len(gen_x), 1), label)\n",
    "    del encoded_x, noised_encoded_x, noised_decoded_x\n",
    "    return gen_x[1:], gen_y[1:]\n",
    "\n",
    "# Augmentation for all faulty case.\n",
    "for f in faulty_case : \n",
    "    if f == 'none' : \n",
    "        continue\n",
    "    gen_x, gen_y = gen_data(resized_wm[np.where(label_wm==f)[0]].to(DEVICE), f)\n",
    "    resized_wm = torch.cat([resized_wm.to(torch.device('cpu')), gen_x], axis=0)\n",
    "    label_wm = np.concatenate((label_wm, gen_y))\n",
    "\n",
    "print('After Generate resized_wm shape : {}, label_wm shape : {}'.format(resized_wm.shape, label_wm.shape))\n",
    "del gen_x, gen_y"
   ]
  },
  {
   "cell_type": "markdown",
   "id": "32899df9-bbe5-436c-a0f8-240c4cfafeb4",
   "metadata": {},
   "source": [
    "### Undersampling"
   ]
  },
  {
   "cell_type": "code",
   "execution_count": 43,
   "id": "26a036d7",
   "metadata": {
    "execution": {
     "iopub.execute_input": "2021-10-04T10:32:50.821415Z",
     "iopub.status.busy": "2021-10-04T10:32:50.820756Z",
     "iopub.status.idle": "2021-10-04T10:32:50.823508Z",
     "shell.execute_reply": "2021-10-04T10:32:50.823920Z",
     "shell.execute_reply.started": "2021-10-04T09:24:12.224394Z"
    },
    "papermill": {
     "duration": 0.062372,
     "end_time": "2021-10-04T10:32:50.824085",
     "exception": false,
     "start_time": "2021-10-04T10:32:50.761713",
     "status": "completed"
    },
    "tags": []
   },
   "outputs": [
    {
     "data": {
      "text/plain": [
       "(31350,)"
      ]
     },
     "execution_count": 43,
     "metadata": {},
     "output_type": "execute_result"
    }
   ],
   "source": [
    "# Undersampling the data in majority labels\n",
    "none_idx = np.where(label_wm=='none')[0][np.random.choice(len(np.where(label_wm=='none')[0]), size=27150, replace=False)]\n",
    "EdgeLoc_idx = np.where(label_wm=='Edge-Loc')[0][np.random.choice(len(np.where(label_wm=='Edge-Loc')[0]), size=1100, replace=False)]\n",
    "Center_idx = np.where(label_wm=='Center')[0][np.random.choice(len(np.where(label_wm=='Center')[0]), size=2500, replace=False)]\n",
    "Loc_idx = np.where(label_wm=='Loc')[0][np.random.choice(len(np.where(label_wm=='Loc')[0]), size=600, replace=False)]\n",
    "delete_idx = np.concatenate((none_idx, EdgeLoc_idx, Center_idx, Loc_idx))\n",
    "delete_idx.shape"
   ]
  },
  {
   "cell_type": "code",
   "execution_count": 44,
   "id": "2d922e2f",
   "metadata": {
    "execution": {
     "iopub.execute_input": "2021-10-04T10:32:50.939277Z",
     "iopub.status.busy": "2021-10-04T10:32:50.937814Z",
     "iopub.status.idle": "2021-10-04T10:32:50.942151Z",
     "shell.execute_reply": "2021-10-04T10:32:50.942551Z",
     "shell.execute_reply.started": "2021-10-04T09:24:12.232468Z"
    },
    "papermill": {
     "duration": 0.063198,
     "end_time": "2021-10-04T10:32:50.942680",
     "exception": false,
     "start_time": "2021-10-04T10:32:50.879482",
     "status": "completed"
    },
    "tags": []
   },
   "outputs": [
    {
     "data": {
      "text/plain": [
       "torch.Size([50611, 3, 56, 56])"
      ]
     },
     "execution_count": 44,
     "metadata": {},
     "output_type": "execute_result"
    }
   ],
   "source": [
    "resized_wm.shape"
   ]
  },
  {
   "cell_type": "code",
   "execution_count": 47,
   "id": "63c2615e",
   "metadata": {
    "execution": {
     "iopub.execute_input": "2021-10-04T10:32:51.575776Z",
     "iopub.status.busy": "2021-10-04T10:32:51.575000Z",
     "iopub.status.idle": "2021-10-04T10:32:51.807785Z",
     "shell.execute_reply": "2021-10-04T10:32:51.808198Z",
     "shell.execute_reply.started": "2021-10-04T09:24:12.537228Z"
    },
    "papermill": {
     "duration": 0.294779,
     "end_time": "2021-10-04T10:32:51.808354",
     "exception": false,
     "start_time": "2021-10-04T10:32:51.513575",
     "status": "completed"
    },
    "tags": []
   },
   "outputs": [
    {
     "data": {
      "image/png": "[encoded data removed]",
      "text/plain": [
       "<Figure size 432x288 with 1 Axes>"
      ]
     },
     "metadata": {
      "needs_background": "light"
     },
     "output_type": "display_data"
    }
   ],
   "source": [
    "# the distribution of labels after undersampling\n",
    "remove_wm = np.delete(resized_wm.detach().cpu().numpy(), delete_idx, axis=0)\n",
    "resized_wm = torch.from_numpy(remove_wm)\n",
    "del_idx = np.concatenate((none_idx, EdgeLoc_idx, Center_idx, Loc_idx))\n",
    "label_wm = np.delete(label_wm, del_idx, axis=0)\n",
    "n, bins, patches = plt.hist(label_wm, bins=9)\n",
    "plt.xticks(rotation=90)\n",
    "plt.show()"
   ]
  },
  {
   "cell_type": "code",
   "execution_count": 48,
   "id": "1b648163",
   "metadata": {
    "execution": {
     "iopub.execute_input": "2021-10-04T10:32:51.928617Z",
     "iopub.status.busy": "2021-10-04T10:32:51.927738Z",
     "iopub.status.idle": "2021-10-04T10:32:51.950502Z",
     "shell.execute_reply": "2021-10-04T10:32:51.951206Z",
     "shell.execute_reply.started": "2021-10-04T09:24:12.772734Z"
    },
    "papermill": {
     "duration": 0.087034,
     "end_time": "2021-10-04T10:32:51.951379",
     "exception": false,
     "start_time": "2021-10-04T10:32:51.864345",
     "status": "completed"
    },
    "tags": []
   },
   "outputs": [
    {
     "name": "stdout",
     "output_type": "stream",
     "text": [
      "i : 0, l : Center\n",
      "i : 1, l : Donut\n",
      "i : 2, l : Edge-Loc\n",
      "i : 3, l : Edge-Ring\n",
      "i : 4, l : Loc\n",
      "i : 5, l : Near-full\n",
      "i : 6, l : Random\n",
      "i : 7, l : Scratch\n",
      "i : 8, l : none\n"
     ]
    }
   ],
   "source": [
    "# One-hot-encoding for labels\n",
    "for i, l in enumerate(faulty_case):\n",
    "    label_wm[label_wm==l] = i    \n",
    "    print('i : {}, l : {}'.format(i, l))\n",
    "    \n",
    "def _to_one_hot(y, num_classes):\n",
    "    scatter_dim = len(y.size())\n",
    "    y_tensor = y.view(*y.size(), -1)\n",
    "    zeros = torch.zeros(*y.size(), num_classes, dtype=y.dtype)\n",
    "    return zeros.scatter(scatter_dim, y_tensor, 1)\n",
    "\n",
    "label_wm = _to_one_hot(torch.as_tensor(np.int64(label_wm)), num_classes=9)"
   ]
  },
  {
   "cell_type": "code",
   "execution_count": 49,
   "id": "d97aa470",
   "metadata": {
    "execution": {
     "iopub.execute_input": "2021-10-04T10:32:52.068115Z",
     "iopub.status.busy": "2021-10-04T10:32:52.067312Z",
     "iopub.status.idle": "2021-10-04T10:32:52.069984Z",
     "shell.execute_reply": "2021-10-04T10:32:52.069553Z",
     "shell.execute_reply.started": "2021-10-04T09:24:12.802836Z"
    },
    "papermill": {
     "duration": 0.062832,
     "end_time": "2021-10-04T10:32:52.070097",
     "exception": false,
     "start_time": "2021-10-04T10:32:52.007265",
     "status": "completed"
    },
    "tags": []
   },
   "outputs": [],
   "source": [
    "# DataSet and DataLoader\n",
    "from sklearn import model_selection\n",
    "\n",
    "import torch.utils.data as data\n",
    "class BasicDataset(data.Dataset):\n",
    "    def __init__(self, x_tensor, y_tensor):\n",
    "        super(BasicDataset, self).__init__()\n",
    "\n",
    "        self.x = x_tensor\n",
    "        self.y = y_tensor\n",
    "        \n",
    "    def __getitem__(self, index):\n",
    "        return self.x[index], self.y[index]\n",
    "\n",
    "    def __len__(self):\n",
    "        return len(self.x)\n",
    "    \n",
    "train_X, test_X, train_Y, test_Y = model_selection.train_test_split(resized_wm, label_wm , test_size=0.2)\n",
    "dataset_train = BasicDataset(train_X,train_Y)\n",
    "dataset_test = BasicDataset(test_X, test_Y)\n",
    "dataset = ConcatDataset([dataset_train, dataset_test])"
   ]
  },
  {
   "cell_type": "code",
   "execution_count": 53,
   "id": "995a43c8",
   "metadata": {
    "execution": {
     "iopub.execute_input": "2021-10-04T10:32:53.149373Z",
     "iopub.status.busy": "2021-10-04T10:32:53.148498Z",
     "iopub.status.idle": "2021-10-04T10:32:53.316829Z",
     "shell.execute_reply": "2021-10-04T10:32:53.317385Z",
     "shell.execute_reply.started": "2021-10-04T10:16:39.899338Z"
    },
    "papermill": {
     "duration": 0.266722,
     "end_time": "2021-10-04T10:32:53.317577",
     "exception": false,
     "start_time": "2021-10-04T10:32:53.050855",
     "status": "completed"
    },
    "tags": []
   },
   "outputs": [
    {
     "name": "stdout",
     "output_type": "stream",
     "text": [
      "CNN(\n",
      "  (layer1): Sequential(\n",
      "    (0): Conv2d(3, 32, kernel_size=(3, 3), stride=(1, 1), padding=(1, 1))\n",
      "    (1): ReLU()\n",
      "    (2): MaxPool2d(kernel_size=2, stride=2, padding=0, dilation=1, ceil_mode=False)\n",
      "  )\n",
      "  (layer2): Sequential(\n",
      "    (0): Conv2d(32, 64, kernel_size=(3, 3), stride=(1, 1), padding=(1, 1))\n",
      "    (1): ReLU()\n",
      "    (2): MaxPool2d(kernel_size=2, stride=2, padding=0, dilation=1, ceil_mode=False)\n",
      "  )\n",
      "  (layer3): Sequential(\n",
      "    (0): Conv2d(64, 128, kernel_size=(3, 3), stride=(1, 1), padding=(1, 1))\n",
      "    (1): ReLU()\n",
      "    (2): MaxPool2d(kernel_size=2, stride=2, padding=1, dilation=1, ceil_mode=False)\n",
      "  )\n",
      "  (fc1): Linear(in_features=8192, out_features=1250, bias=True)\n",
      "  (layer4): Sequential(\n",
      "    (0): Linear(in_features=8192, out_features=1250, bias=True)\n",
      "    (1): ReLU()\n",
      "  )\n",
      "  (fc2): Linear(in_features=1250, out_features=9, bias=True)\n",
      ")\n",
      "----------------------------------------------------------------\n",
      "        Layer (type)               Output Shape         Param #\n",
      "================================================================\n",
      "            Conv2d-1           [16, 32, 56, 56]             896\n",
      "              ReLU-2           [16, 32, 56, 56]               0\n",
      "         MaxPool2d-3           [16, 32, 28, 28]               0\n",
      "            Conv2d-4           [16, 64, 28, 28]          18,496\n",
      "              ReLU-5           [16, 64, 28, 28]               0\n",
      "         MaxPool2d-6           [16, 64, 14, 14]               0\n",
      "            Conv2d-7          [16, 128, 14, 14]          73,856\n",
      "              ReLU-8          [16, 128, 14, 14]               0\n",
      "         MaxPool2d-9            [16, 128, 8, 8]               0\n",
      "           Linear-10                 [16, 1250]      10,241,250\n",
      "           Linear-11                 [16, 1250]      10,241,250\n",
      "             ReLU-12                 [16, 1250]               0\n",
      "           Linear-13                    [16, 9]          11,259\n",
      "================================================================\n",
      "Total params: 20,587,007\n",
      "Trainable params: 20,587,007\n",
      "Non-trainable params: 0\n",
      "----------------------------------------------------------------\n",
      "Input size (MB): 0.57\n",
      "Forward/backward pass size (MB): 48.93\n",
      "Params size (MB): 78.53\n",
      "Estimated Total Size (MB): 128.04\n",
      "----------------------------------------------------------------\n"
     ]
    }
   ],
   "source": [
    "# Classification Model\n",
    "\n",
    "class CNN(nn.Module):\n",
    "    def __init__(self):\n",
    "        super(CNN, self).__init__()\n",
    "        self.keep_prob1 = 0.2\n",
    "        self.keep_prob2 = 0.5\n",
    "\n",
    "        self.layer1 =nn.Sequential(nn.Conv2d(3, 32, kernel_size=3, stride=1, padding=1),\n",
    "                                   nn.ReLU(),\n",
    "                                   nn.MaxPool2d(kernel_size=2, stride=2))\n",
    "\n",
    "        self.layer2 = nn.Sequential(nn.Conv2d(32, 64, kernel_size=3, stride=1, padding=1),\n",
    "                                    nn.ReLU(),\n",
    "                                    nn.MaxPool2d(kernel_size=2, stride=2))\n",
    "        \n",
    "        self.layer3 = nn.Sequential(nn.Conv2d(64, 128, kernel_size=3, stride=1, padding=1),\n",
    "                                    nn.ReLU(),\n",
    "                                    nn.MaxPool2d(kernel_size=2, stride=2, padding=1))\n",
    "\n",
    "        self.fc1 = nn.Linear(8 * 8 * 128, 1250, bias=True)\n",
    "        # xavier initialization\n",
    "        nn.init.xavier_uniform_(self.fc1.weight)\n",
    "        \n",
    "        self.layer4 = nn.Sequential(self.fc1,\n",
    "                                    nn.ReLU())\n",
    "\n",
    "        self.fc2 = nn.Linear(1250, 9, bias=True)\n",
    "        nn.init.xavier_uniform_(self.fc2.weight)\n",
    "        \n",
    "\n",
    "    def forward(self, x):\n",
    "        out = self.layer1(x)\n",
    "        out = self.layer2(out)\n",
    "        out = self.layer3(out)\n",
    "        out = out.view(out.size(0), -1)\n",
    "        out = self.layer4(out)\n",
    "        out = self.fc2(out)\n",
    "        return out\n",
    "    \n",
    "CNN = CNN().to(DEVICE)\n",
    "print(CNN)\n",
    "summary(CNN,(3,56,56), batch_size=16)"
   ]
  },
  {
   "cell_type": "code",
   "execution_count": 54,
   "id": "9ad6bafd",
   "metadata": {
    "execution": {
     "iopub.execute_input": "2021-10-04T10:32:53.442459Z",
     "iopub.status.busy": "2021-10-04T10:32:53.441684Z",
     "iopub.status.idle": "2021-10-04T10:32:53.443909Z",
     "shell.execute_reply": "2021-10-04T10:32:53.444304Z",
     "shell.execute_reply.started": "2021-10-04T09:58:44.698305Z"
    },
    "papermill": {
     "duration": 0.066401,
     "end_time": "2021-10-04T10:32:53.444436",
     "exception": false,
     "start_time": "2021-10-04T10:32:53.378035",
     "status": "completed"
    },
    "tags": []
   },
   "outputs": [],
   "source": [
    "args = {'BATCH_SIZE': 256,\n",
    "        'LEARNING_RATE': 0.005,\n",
    "        'NUM_EPOCH': 10}"
   ]
  },
  {
   "cell_type": "code",
   "execution_count": 55,
   "id": "afe15d07",
   "metadata": {
    "execution": {
     "iopub.execute_input": "2021-10-04T10:32:53.562809Z",
     "iopub.status.busy": "2021-10-04T10:32:53.561945Z",
     "iopub.status.idle": "2021-10-04T10:32:53.564699Z",
     "shell.execute_reply": "2021-10-04T10:32:53.564212Z",
     "shell.execute_reply.started": "2021-10-04T10:16:42.696417Z"
    },
    "papermill": {
     "duration": 0.064272,
     "end_time": "2021-10-04T10:32:53.564802",
     "exception": false,
     "start_time": "2021-10-04T10:32:53.500530",
     "status": "completed"
    },
    "tags": []
   },
   "outputs": [],
   "source": [
    "# loss_func and optimizer\n",
    "criterion = torch.nn.CrossEntropyLoss().to(DEVICE)\n",
    "optimizer = torch.optim.Adam(CNN.parameters(), lr=args['LEARNING_RATE'])\n",
    "torch.manual_seed(42)\n",
    "splits = KFold(n_splits=5, shuffle = True, random_state = 42)\n",
    "foldperf={}"
   ]
  },
  {
   "cell_type": "code",
   "execution_count": 56,
   "id": "698def9e",
   "metadata": {
    "execution": {
     "iopub.execute_input": "2021-10-04T10:32:53.689071Z",
     "iopub.status.busy": "2021-10-04T10:32:53.688311Z",
     "iopub.status.idle": "2021-10-04T10:32:53.690701Z",
     "shell.execute_reply": "2021-10-04T10:32:53.690289Z",
     "shell.execute_reply.started": "2021-10-04T10:08:52.441343Z"
    },
    "papermill": {
     "duration": 0.069008,
     "end_time": "2021-10-04T10:32:53.690803",
     "exception": false,
     "start_time": "2021-10-04T10:32:53.621795",
     "status": "completed"
    },
    "tags": []
   },
   "outputs": [],
   "source": [
    "# Training and Validation Loop\n",
    "def train_epoch(model, dataloader, loss_fn, optimizer):\n",
    "    train_loss, train_correct= 0, 0\n",
    "    model.train()\n",
    "    for images, labels in dataloader:\n",
    "        images,labels = images.to(DEVICE),labels.to(DEVICE).reshape(args['BATCH_SIZE'], 9)\n",
    "        optimizer.zero_grad()\n",
    "        output = model(images)\n",
    "        labels = torch.argmax(labels, dim=1)\n",
    "        loss = loss_fn(output,labels)\n",
    "        loss.backward()\n",
    "        optimizer.step()\n",
    "        train_loss += loss.item() * images.size(0)\n",
    "        predictions = torch.argmax(output, 1)\n",
    "        train_correct += (predictions == labels).sum().item()\n",
    "    print(train_correct)\n",
    "    return train_loss,train_correct\n",
    "  \n",
    "def valid_epoch(model,dataloader,loss_fn):\n",
    "    valid_loss, val_correct = 0.0, 0\n",
    "    model.eval()\n",
    "    for images, labels in dataloader:\n",
    "        images,labels = images.to(DEVICE),labels.to(DEVICE).reshape(args['BATCH_SIZE'],9)\n",
    "        output = model(images)\n",
    "        labels = torch.argmax(labels, dim=1)\n",
    "        loss=loss_fn(output,labels)\n",
    "        valid_loss+=loss.item() * images.size(0)\n",
    "        predictions = torch.argmax(output, 1)\n",
    "        val_correct+=(predictions == labels).sum().item()\n",
    "    return valid_loss,val_correct"
   ]
  },
  {
   "cell_type": "code",
   "execution_count": 57,
   "id": "699fe1f3",
   "metadata": {
    "execution": {
     "iopub.execute_input": "2021-10-04T10:32:53.813818Z",
     "iopub.status.busy": "2021-10-04T10:32:53.813011Z",
     "iopub.status.idle": "2021-10-04T10:34:40.635106Z",
     "shell.execute_reply": "2021-10-04T10:34:40.635530Z",
     "shell.execute_reply.started": "2021-10-04T10:16:44.672948Z"
    },
    "papermill": {
     "duration": 106.889473,
     "end_time": "2021-10-04T10:34:40.635717",
     "exception": false,
     "start_time": "2021-10-04T10:32:53.746244",
     "status": "completed"
    },
    "tags": []
   },
   "outputs": [
    {
     "name": "stdout",
     "output_type": "stream",
     "text": [
      "Fold 1\n",
      "9446\n",
      "Epoch:1/10 AVG Training Loss:1.179 AVG Test Loss:0.394 AVG Training Acc 61.31 % AVG Test Acc 85.34 %\n",
      "13882\n",
      "Epoch:2/10 AVG Training Loss:0.274 AVG Test Loss:0.187 AVG Training Acc 90.10 % AVG Test Acc 93.51 %\n",
      "14703\n",
      "Epoch:3/10 AVG Training Loss:0.130 AVG Test Loss:0.138 AVG Training Acc 95.42 % AVG Test Acc 95.72 %\n",
      "14914\n",
      "Epoch:4/10 AVG Training Loss:0.089 AVG Test Loss:0.094 AVG Training Acc 96.79 % AVG Test Acc 96.39 %\n",
      "15135\n",
      "Epoch:5/10 AVG Training Loss:0.050 AVG Test Loss:0.059 AVG Training Acc 98.23 % AVG Test Acc 98.05 %\n",
      "15172\n",
      "Epoch:6/10 AVG Training Loss:0.038 AVG Test Loss:0.073 AVG Training Acc 98.47 % AVG Test Acc 97.74 %\n",
      "15280\n",
      "Epoch:7/10 AVG Training Loss:0.019 AVG Test Loss:0.051 AVG Training Acc 99.17 % AVG Test Acc 98.34 %\n",
      "15277\n",
      "Epoch:8/10 AVG Training Loss:0.018 AVG Test Loss:0.058 AVG Training Acc 99.15 % AVG Test Acc 98.29 %\n",
      "15026\n",
      "Epoch:9/10 AVG Training Loss:0.148 AVG Test Loss:0.154 AVG Training Acc 97.52 % AVG Test Acc 95.09 %\n",
      "15137\n",
      "Epoch:10/10 AVG Training Loss:0.049 AVG Test Loss:0.040 AVG Training Acc 98.24 % AVG Test Acc 98.55 %\n",
      "Fold 2\n",
      "15280\n",
      "Epoch:1/10 AVG Training Loss:0.019 AVG Test Loss:0.013 AVG Training Acc 99.16 % AVG Test Acc 99.30 %\n",
      "15332\n",
      "Epoch:2/10 AVG Training Loss:0.008 AVG Test Loss:0.014 AVG Training Acc 99.50 % AVG Test Acc 99.51 %\n",
      "15342\n",
      "Epoch:3/10 AVG Training Loss:0.005 AVG Test Loss:0.009 AVG Training Acc 99.57 % AVG Test Acc 99.27 %\n",
      "15350\n",
      "Epoch:4/10 AVG Training Loss:0.003 AVG Test Loss:0.013 AVG Training Acc 99.62 % AVG Test Acc 99.53 %\n",
      "15353\n",
      "Epoch:5/10 AVG Training Loss:0.003 AVG Test Loss:0.006 AVG Training Acc 99.64 % AVG Test Acc 99.58 %\n",
      "15357\n",
      "Epoch:6/10 AVG Training Loss:0.002 AVG Test Loss:0.007 AVG Training Acc 99.66 % AVG Test Acc 99.58 %\n",
      "15354\n",
      "Epoch:7/10 AVG Training Loss:0.002 AVG Test Loss:0.007 AVG Training Acc 99.64 % AVG Test Acc 99.58 %\n",
      "15356\n",
      "Epoch:8/10 AVG Training Loss:0.002 AVG Test Loss:0.010 AVG Training Acc 99.66 % AVG Test Acc 99.58 %\n",
      "15357\n",
      "Epoch:9/10 AVG Training Loss:0.001 AVG Test Loss:0.009 AVG Training Acc 99.66 % AVG Test Acc 99.56 %\n",
      "15356\n",
      "Epoch:10/10 AVG Training Loss:0.001 AVG Test Loss:0.005 AVG Training Acc 99.66 % AVG Test Acc 99.58 %\n",
      "Fold 3\n",
      "15348\n",
      "Epoch:1/10 AVG Training Loss:0.004 AVG Test Loss:0.008 AVG Training Acc 99.60 % AVG Test Acc 99.61 %\n",
      "15263\n",
      "Epoch:2/10 AVG Training Loss:0.020 AVG Test Loss:0.008 AVG Training Acc 99.05 % AVG Test Acc 99.45 %\n",
      "15266\n",
      "Epoch:3/10 AVG Training Loss:0.020 AVG Test Loss:0.020 AVG Training Acc 99.07 % AVG Test Acc 98.96 %\n",
      "15297\n",
      "Epoch:4/10 AVG Training Loss:0.014 AVG Test Loss:0.017 AVG Training Acc 99.27 % AVG Test Acc 99.01 %\n",
      "15307\n",
      "Epoch:5/10 AVG Training Loss:0.010 AVG Test Loss:0.012 AVG Training Acc 99.34 % AVG Test Acc 99.22 %\n",
      "15337\n",
      "Epoch:6/10 AVG Training Loss:0.007 AVG Test Loss:0.007 AVG Training Acc 99.53 % AVG Test Acc 99.43 %\n",
      "15344\n",
      "Epoch:7/10 AVG Training Loss:0.004 AVG Test Loss:0.007 AVG Training Acc 99.58 % AVG Test Acc 99.48 %\n",
      "15351\n",
      "Epoch:8/10 AVG Training Loss:0.003 AVG Test Loss:0.004 AVG Training Acc 99.62 % AVG Test Acc 99.58 %\n",
      "15350\n",
      "Epoch:9/10 AVG Training Loss:0.002 AVG Test Loss:0.005 AVG Training Acc 99.62 % AVG Test Acc 99.56 %\n",
      "15355\n",
      "Epoch:10/10 AVG Training Loss:0.002 AVG Test Loss:0.003 AVG Training Acc 99.65 % AVG Test Acc 99.56 %\n",
      "Fold 4\n",
      "15348\n",
      "Epoch:1/10 AVG Training Loss:0.003 AVG Test Loss:0.012 AVG Training Acc 99.60 % AVG Test Acc 99.30 %\n",
      "15337\n",
      "Epoch:2/10 AVG Training Loss:0.006 AVG Test Loss:0.003 AVG Training Acc 99.53 % AVG Test Acc 99.64 %\n",
      "15342\n",
      "Epoch:3/10 AVG Training Loss:0.005 AVG Test Loss:0.002 AVG Training Acc 99.57 % AVG Test Acc 99.66 %\n",
      "15275\n",
      "Epoch:4/10 AVG Training Loss:0.019 AVG Test Loss:0.018 AVG Training Acc 99.13 % AVG Test Acc 99.07 %\n",
      "15312\n",
      "Epoch:5/10 AVG Training Loss:0.010 AVG Test Loss:0.006 AVG Training Acc 99.37 % AVG Test Acc 99.48 %\n",
      "15347\n",
      "Epoch:6/10 AVG Training Loss:0.003 AVG Test Loss:0.007 AVG Training Acc 99.60 % AVG Test Acc 99.56 %\n",
      "15349\n",
      "Epoch:7/10 AVG Training Loss:0.004 AVG Test Loss:0.004 AVG Training Acc 99.61 % AVG Test Acc 99.58 %\n",
      "15355\n",
      "Epoch:8/10 AVG Training Loss:0.002 AVG Test Loss:0.002 AVG Training Acc 99.65 % AVG Test Acc 99.64 %\n",
      "15354\n",
      "Epoch:9/10 AVG Training Loss:0.002 AVG Test Loss:0.002 AVG Training Acc 99.64 % AVG Test Acc 99.61 %\n",
      "15355\n",
      "Epoch:10/10 AVG Training Loss:0.002 AVG Test Loss:0.002 AVG Training Acc 99.65 % AVG Test Acc 99.58 %\n",
      "Fold 5\n",
      "15346\n",
      "Epoch:1/10 AVG Training Loss:0.003 AVG Test Loss:0.004 AVG Training Acc 99.59 % AVG Test Acc 99.58 %\n",
      "15317\n",
      "Epoch:2/10 AVG Training Loss:0.008 AVG Test Loss:0.008 AVG Training Acc 99.40 % AVG Test Acc 99.45 %\n",
      "15280\n",
      "Epoch:3/10 AVG Training Loss:0.020 AVG Test Loss:0.018 AVG Training Acc 99.16 % AVG Test Acc 99.25 %\n",
      "15292\n",
      "Epoch:4/10 AVG Training Loss:0.012 AVG Test Loss:0.006 AVG Training Acc 99.24 % AVG Test Acc 99.56 %\n",
      "15298\n",
      "Epoch:5/10 AVG Training Loss:0.015 AVG Test Loss:0.033 AVG Training Acc 99.28 % AVG Test Acc 98.55 %\n",
      "15288\n",
      "Epoch:6/10 AVG Training Loss:0.016 AVG Test Loss:0.014 AVG Training Acc 99.21 % AVG Test Acc 99.12 %\n",
      "15334\n",
      "Epoch:7/10 AVG Training Loss:0.006 AVG Test Loss:0.006 AVG Training Acc 99.51 % AVG Test Acc 99.53 %\n",
      "15348\n",
      "Epoch:8/10 AVG Training Loss:0.002 AVG Test Loss:0.005 AVG Training Acc 99.60 % AVG Test Acc 99.56 %\n",
      "15350\n",
      "Epoch:9/10 AVG Training Loss:0.002 AVG Test Loss:0.004 AVG Training Acc 99.62 % AVG Test Acc 99.58 %\n",
      "15355\n",
      "Epoch:10/10 AVG Training Loss:0.002 AVG Test Loss:0.003 AVG Training Acc 99.65 % AVG Test Acc 99.61 %\n"
     ]
    }
   ],
   "source": [
    "# K fold\n",
    "for fold, (train_idx,val_idx) in enumerate(splits.split(np.arange(len(dataset)))):\n",
    "    print('Fold {}'.format(fold + 1))\n",
    "    train_sampler = SubsetRandomSampler(train_idx)\n",
    "    test_sampler = SubsetRandomSampler(val_idx)\n",
    "    train_loader = DataLoader(dataset, batch_size=args['BATCH_SIZE'], sampler=train_sampler, drop_last=True)\n",
    "    test_loader = DataLoader(dataset, batch_size=args['BATCH_SIZE'], sampler=test_sampler, drop_last=True)\n",
    "    history = {'train_loss': [], 'test_loss': [],'train_acc':[],'test_acc':[]}\n",
    "\n",
    "    for epoch in range(args['NUM_EPOCH']):\n",
    "        train_loss, train_correct=train_epoch(CNN,train_loader,criterion,optimizer)\n",
    "        test_loss, test_correct=valid_epoch(CNN,test_loader,criterion)\n",
    "        train_loss = train_loss / len(train_loader.sampler)\n",
    "        train_acc = train_correct / len(train_loader.sampler) * 100\n",
    "        test_loss = test_loss / len(test_loader.sampler)\n",
    "        test_acc = test_correct / len(test_loader.sampler) * 100\n",
    "        print(\"Epoch:{}/{} AVG Training Loss:{:.3f} AVG Test Loss:{:.3f} AVG Training Acc {:.2f} % AVG Test Acc {:.2f} %\".format(epoch + 1,\n",
    "                                                                                                             args['NUM_EPOCH'],\n",
    "                                                                                                             train_loss,\n",
    "                                                                                                             test_loss,\n",
    "                                                                                                             train_acc,\n",
    "                                                                                                             test_acc))\n",
    "        history['train_loss'].append(train_loss)\n",
    "        history['test_loss'].append(test_loss)\n",
    "        history['train_acc'].append(train_acc)\n",
    "        history['test_acc'].append(test_acc)\n",
    "    foldperf['fold{}'.format(fold+1)] = history  \n",
    "torch.save(model,'k_cross_CNN.pt')     "
   ]
  },
  {
   "cell_type": "code",
   "execution_count": 58,
   "id": "dddeefb4",
   "metadata": {
    "execution": {
     "iopub.execute_input": "2021-10-04T10:34:40.809522Z",
     "iopub.status.busy": "2021-10-04T10:34:40.808740Z",
     "iopub.status.idle": "2021-10-04T10:34:40.812681Z",
     "shell.execute_reply": "2021-10-04T10:34:40.813167Z",
     "shell.execute_reply.started": "2021-10-04T10:22:03.050117Z"
    },
    "papermill": {
     "duration": 0.095161,
     "end_time": "2021-10-04T10:34:40.813299",
     "exception": false,
     "start_time": "2021-10-04T10:34:40.718138",
     "status": "completed"
    },
    "tags": []
   },
   "outputs": [
    {
     "name": "stdout",
     "output_type": "stream",
     "text": [
      "Performance of 5 fold cross validation\n",
      "Average Training Loss: 0.045 \t Average Test Loss: 0.032 \t Average Training Acc: 98.28 \t Average Test Acc: 98.70\n"
     ]
    }
   ],
   "source": [
    "testl_f,tl_f,testa_f,ta_f=[],[],[],[]\n",
    "k=5\n",
    "for f in range(1, k+1):\n",
    "    tl_f.append(np.mean(foldperf['fold{}'.format(f)]['train_loss']))\n",
    "    testl_f.append(np.mean(foldperf['fold{}'.format(f)]['test_loss']))\n",
    "\n",
    "    ta_f.append(np.mean(foldperf['fold{}'.format(f)]['train_acc']))\n",
    "    testa_f.append(np.mean(foldperf['fold{}'.format(f)]['test_acc']))\n",
    "\n",
    "print('Performance of {} fold cross validation'.format(k))\n",
    "print(\"Average Training Loss: {:.3f} \\t Average Test Loss: {:.3f} \\t Average Training Acc: {:.2f} \\t Average Test Acc: {:.2f}\".format(np.mean(tl_f),np.mean(testl_f),np.mean(ta_f),np.mean(testa_f)))       "
   ]
  },
  {
   "cell_type": "code",
   "execution_count": 59,
   "id": "822cf610",
   "metadata": {
    "execution": {
     "iopub.execute_input": "2021-10-04T10:34:40.984037Z",
     "iopub.status.busy": "2021-10-04T10:34:40.983411Z",
     "iopub.status.idle": "2021-10-04T10:34:40.986154Z",
     "shell.execute_reply": "2021-10-04T10:34:40.986587Z",
     "shell.execute_reply.started": "2021-10-04T10:23:39.072420Z"
    },
    "papermill": {
     "duration": 0.091758,
     "end_time": "2021-10-04T10:34:40.986742",
     "exception": false,
     "start_time": "2021-10-04T10:34:40.894984",
     "status": "completed"
    },
    "tags": []
   },
   "outputs": [
    {
     "data": {
      "text/plain": [
       "[0.19927813397645022,\n",
       " 0.004650912973224716,\n",
       " 0.008534055006270204,\n",
       " 0.005437832181108949,\n",
       " 0.00868402354542484]"
      ]
     },
     "execution_count": 59,
     "metadata": {},
     "output_type": "execute_result"
    }
   ],
   "source": [
    "tl_f"
   ]
  },
  {
   "cell_type": "code",
   "execution_count": 60,
   "id": "1994c793",
   "metadata": {
    "execution": {
     "iopub.execute_input": "2021-10-04T10:34:41.179710Z",
     "iopub.status.busy": "2021-10-04T10:34:41.178859Z",
     "iopub.status.idle": "2021-10-04T10:34:41.610841Z",
     "shell.execute_reply": "2021-10-04T10:34:41.610345Z",
     "shell.execute_reply.started": "2021-10-04T10:24:37.042485Z"
    },
    "papermill": {
     "duration": 0.542054,
     "end_time": "2021-10-04T10:34:41.610970",
     "exception": false,
     "start_time": "2021-10-04T10:34:41.068916",
     "status": "completed"
    },
    "tags": []
   },
   "outputs": [
    {
     "data": {
      "image/png": "[encoded data removed]",
      "text/plain": [
       "<Figure size 432x288 with 1 Axes>"
      ]
     },
     "metadata": {
      "needs_background": "light"
     },
     "output_type": "display_data"
    },
    {
     "data": {
      "image/png": "[encoded data removed]",
      "text/plain": [
       "<Figure size 432x288 with 1 Axes>"
      ]
     },
     "metadata": {
      "needs_background": "light"
     },
     "output_type": "display_data"
    }
   ],
   "source": [
    "# accuracy plot\n",
    "plt.plot(ta_f)\n",
    "plt.plot(testa_f)\n",
    "plt.title('model accuracy')\n",
    "plt.ylabel('accuracy')\n",
    "plt.xlabel('epoch')\n",
    "plt.legend(['train', 'test'], loc='upper left')\n",
    "plt.show()\n",
    "\n",
    "# loss plot\n",
    "plt.plot(tl_f)\n",
    "plt.plot(testl_f)\n",
    "plt.title('model loss')\n",
    "plt.ylabel('loss')\n",
    "plt.xlabel('epoch')\n",
    "plt.legend(['train', 'test'], loc='upper left')\n",
    "plt.show()"
   ]
  },
  {
   "cell_type": "code",
   "execution_count": null,
   "id": "334a25a2",
   "metadata": {
    "papermill": {
     "duration": 0.083822,
     "end_time": "2021-10-04T10:34:41.787367",
     "exception": false,
     "start_time": "2021-10-04T10:34:41.703545",
     "status": "completed"
    },
    "tags": []
   },
   "outputs": [],
   "source": []
  }
 ],
 "metadata": {
  "kernelspec": {
   "display_name": "Python 3",
   "language": "python",
   "name": "python3"
  },
  "language_info": {
   "codemirror_mode": {
    "name": "ipython",
    "version": 3
   },
   "file_extension": ".py",
   "mimetype": "text/x-python",
   "name": "python",
   "nbconvert_exporter": "python",
   "pygments_lexer": "ipython3",
   "version": "3.8.11"
  },
  "papermill": {
   "default_parameters": {},
   "duration": 508.922811,
   "end_time": "2021-10-04T10:34:45.624480",
   "environment_variables": {},
   "exception": null,
   "input_path": "__notebook__.ipynb",
   "output_path": "__notebook__.ipynb",
   "parameters": {},
   "start_time": "2021-10-04T10:26:16.701669",
   "version": "2.3.3"
  }
 },
 "nbformat": 4,
 "nbformat_minor": 5
}
